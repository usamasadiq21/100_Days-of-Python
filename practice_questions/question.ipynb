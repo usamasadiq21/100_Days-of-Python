{
 "cells": [
  {
   "cell_type": "markdown",
   "metadata": {},
   "source": [
    "  1. How to find Averaage of N numbers in python."
   ]
  },
  {
   "cell_type": "code",
   "execution_count": null,
   "metadata": {},
   "outputs": [],
   "source": [
    "num = int(input('How many numbers ?'))\n",
    "total_sum = 0\n",
    "\n",
    "for n in range(num):\n",
    "    number = int(input('Enter number!!'))\n",
    "    total_sum += number\n",
    "\n",
    "avg = total_sum / num \n",
    "\n",
    "print(avg)"
   ]
  },
  {
   "cell_type": "markdown",
   "metadata": {},
   "source": [
    "2. How to sum the first N positive integers in python."
   ]
  },
  {
   "cell_type": "code",
   "execution_count": null,
   "metadata": {},
   "outputs": [],
   "source": [
    "number = int(input('Enter Number of values, you want to enter to get Sum.!!'))\n",
    "sum = 0\n",
    "values_list = []\n",
    "for n in range(number):\n",
    "    value_to_sum = int(input('ENter values!!'))\n",
    "    if value_to_sum > 0:\n",
    "        values_list.append(value_to_sum)\n",
    "        sum += value_to_sum\n",
    "    elif value_to_sum < 0:\n",
    "        number != len(values_list)\n",
    "        values_list.append(value_to_sum)\n",
    "        continue\n",
    "\n",
    "    else:\n",
    "        print('Enter Positive numbers only!!')\n",
    "\n",
    "print('Sum', sum)\n",
    "print(values_list)"
   ]
  }
 ],
 "metadata": {
  "kernelspec": {
   "display_name": "Python 3",
   "language": "python",
   "name": "python3"
  },
  "language_info": {
   "codemirror_mode": {
    "name": "ipython",
    "version": 3
   },
   "file_extension": ".py",
   "mimetype": "text/x-python",
   "name": "python",
   "nbconvert_exporter": "python",
   "pygments_lexer": "ipython3",
   "version": "3.12.3"
  }
 },
 "nbformat": 4,
 "nbformat_minor": 2
}
