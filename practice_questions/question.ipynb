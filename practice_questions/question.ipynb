{
 "cells": [
  {
   "cell_type": "markdown",
   "metadata": {},
   "source": [
    "  1. How to find Averaage of N numbers in python."
   ]
  },
  {
   "cell_type": "code",
   "execution_count": null,
   "metadata": {},
   "outputs": [],
   "source": [
    "num = int(input('How many numbers ?'))\n",
    "total_sum = 0\n",
    "\n",
    "for n in range(num):\n",
    "    number = int(input('Enter number!!'))\n",
    "    total_sum += number\n",
    "\n",
    "avg = total_sum / num \n",
    "\n",
    "print(avg)"
   ]
  },
  {
   "cell_type": "markdown",
   "metadata": {},
   "source": [
    "2. How to sum the first N positive integers in python."
   ]
  },
  {
   "cell_type": "code",
   "execution_count": null,
   "metadata": {},
   "outputs": [],
   "source": [
    "number = int(input('Enter Number of values, you want to enter to get Sum.!!'))\n",
    "sum = 0\n",
    "values_list = []\n",
    "for n in range(number):\n",
    "    value_to_sum = int(input('ENter values!!'))\n",
    "    if value_to_sum > 0:\n",
    "        values_list.append(value_to_sum)\n",
    "        sum += value_to_sum\n",
    "    elif value_to_sum < 0:\n",
    "        number != len(values_list)\n",
    "        values_list.append(value_to_sum)\n",
    "        continue\n",
    "\n",
    "    else:\n",
    "        print('Enter Positive numbers only!!')\n",
    "\n",
    "print('Sum', sum)\n",
    "print(values_list)"
   ]
  },
  {
   "cell_type": "markdown",
   "metadata": {},
   "source": [
    "3. User will input (3ages).Find the oldest one"
   ]
  },
  {
   "cell_type": "code",
   "execution_count": 8,
   "metadata": {},
   "outputs": [
    {
     "name": "stdout",
     "output_type": "stream",
     "text": [
      "Max Age = 99 and Age-List = [80, 77, 99]\n"
     ]
    }
   ],
   "source": [
    "max_age = 0\n",
    "age_list = []\n",
    "for i in range(3):\n",
    "    ageInput = int(input('Enter Ages..!!'))\n",
    "    if ageInput > 0:\n",
    "        age_list.append(ageInput)\n",
    "        # Chekcing for Max age input and assigning it to \"max_age\" variable.\n",
    "        if max_age < ageInput:\n",
    "            max_age = ageInput\n",
    "        else:\n",
    "            pass\n",
    "    else: \n",
    "        # Agr user koi age 0 ya negative input deta ha tw loop break ho jaye ga.\n",
    "        print('Wrong Input')\n",
    "        break\n",
    "\n",
    "print(f\"Max Age = {max_age} and Age-List = {age_list}\")"
   ]
  },
  {
   "cell_type": "markdown",
   "metadata": {},
   "source": [
    "2. Write a program that will convert celsius value to fahrenheit"
   ]
  },
  {
   "cell_type": "code",
   "execution_count": 16,
   "metadata": {},
   "outputs": [
    {
     "name": "stdout",
     "output_type": "stream",
     "text": [
      "From c To k\n",
      "Temperature = 20c.\n",
      "Converted Temperature = 293.15.\n"
     ]
    }
   ],
   "source": [
    "# Taking temperature unit from user.(jis unit ma user value enter kry ga)\n",
    "temp_unit = input('Enter Temperature Unit.. C/K/F').lower()\n",
    "conversion_unit = input('Enter Temperature unit to convert into..').lower()\n",
    "temp = int(input('Enter Tepmerature value..'))\n",
    "\n",
    "# Conversion Statement\n",
    "print(f\"From {temp_unit} To {conversion_unit}\")\n",
    "\n",
    "# converted Temperature\n",
    "final_result = 0\n",
    "\n",
    "# printing user enterd temperature\n",
    "print(f\"Temperature = {temp}{temp_unit}.\")\n",
    "\n",
    "if temp_unit == \"c\" and conversion_unit == \"k\":\n",
    "   final_result = temp + 273.15\n",
    "\n",
    "elif temp_unit == \"k\" and conversion_unit == \"c\":\n",
    "   final_result = temp - 273.15\n",
    "\n",
    "elif temp_unit == \"c\" and conversion_unit == \"f\":\n",
    "   final_result = temp * (9/5) + 32\n",
    "\n",
    "elif temp_unit == \"f\" and conversion_unit == \"c\":\n",
    "   final_result = (temp - 32) * (5/9)\n",
    "\n",
    "elif temp_unit == \"k\" and conversion_unit == \"f\":\n",
    "   final_result = ((temp - 273.15) * 1.8) + 32\n",
    "\n",
    "elif temp_unit == \"f\" and conversion_unit == \"k\":\n",
    "    final_result = ((temp - 273.15) * 9/5) + 32\n",
    "\n",
    "print(f\"Converted Temperature = {round(final_result, 2)}\")"
   ]
  },
  {
   "cell_type": "markdown",
   "metadata": {},
   "source": [
    "3. User will input (2numbers).Write a program to swap the numbers\n"
   ]
  },
  {
   "cell_type": "code",
   "execution_count": 23,
   "metadata": {},
   "outputs": [
    {
     "name": "stdout",
     "output_type": "stream",
     "text": [
      "Before Swapping\n",
      "Num-1 = 1 \n",
      "Num-2 = 2\n",
      "After Swapping\n",
      "Num-1 = 2 \n",
      "Num-2 = 1\n"
     ]
    }
   ],
   "source": [
    "num1 = int(input('Enter Any number'))\n",
    "num2 = int(input('Enter any number'))\n",
    "\n",
    "print(\"Before Swapping\")\n",
    "print(f\"Num-1 = {num1} \\nNum-2 = {num2}\")\n",
    "\n",
    "num1, num2 = num2, num1\n",
    "\n",
    "print(\"After Swapping\")\n",
    "print(f\"Num-1 = {num1} \\nNum-2 = {num2}\")\n"
   ]
  },
  {
   "cell_type": "markdown",
   "metadata": {},
   "source": [
    "4. Write a program that will give you the sum of 3 digits"
   ]
  },
  {
   "cell_type": "code",
   "execution_count": 26,
   "metadata": {},
   "outputs": [
    {
     "name": "stdout",
     "output_type": "stream",
     "text": [
      "Sum =  6\n"
     ]
    }
   ],
   "source": [
    "sum = 0\n",
    "for i in range(4):\n",
    "    sum += i\n",
    "\n",
    "print(\"Sum = \", sum)"
   ]
  },
  {
   "cell_type": "markdown",
   "metadata": {},
   "source": [
    "5. Write a program that will reverse a four digit number.Also it checks\n",
    "whether the reverse is true."
   ]
  },
  {
   "cell_type": "code",
   "execution_count": 45,
   "metadata": {},
   "outputs": [
    {
     "name": "stdout",
     "output_type": "stream",
     "text": [
      "['1', '2', '3', '4']\n"
     ]
    }
   ],
   "source": [
    "numb = \"4321\"\n",
    "rev_num = list(numb)\n",
    "print(rev_num[::-1])\n"
   ]
  },
  {
   "cell_type": "code",
   "execution_count": 33,
   "metadata": {},
   "outputs": [
    {
     "name": "stdout",
     "output_type": "stream",
     "text": [
      "['4']\n",
      "['4', '3']\n",
      "['4', '3', '2']\n",
      "['4', '3', '2', '1']\n"
     ]
    }
   ],
   "source": []
  },
  {
   "cell_type": "code",
   "execution_count": null,
   "metadata": {},
   "outputs": [],
   "source": []
  },
  {
   "cell_type": "code",
   "execution_count": null,
   "metadata": {},
   "outputs": [],
   "source": []
  },
  {
   "cell_type": "code",
   "execution_count": null,
   "metadata": {},
   "outputs": [],
   "source": []
  },
  {
   "cell_type": "code",
   "execution_count": null,
   "metadata": {},
   "outputs": [],
   "source": []
  },
  {
   "cell_type": "code",
   "execution_count": null,
   "metadata": {},
   "outputs": [],
   "source": []
  },
  {
   "cell_type": "code",
   "execution_count": null,
   "metadata": {},
   "outputs": [],
   "source": []
  },
  {
   "cell_type": "code",
   "execution_count": null,
   "metadata": {},
   "outputs": [],
   "source": []
  },
  {
   "cell_type": "code",
   "execution_count": null,
   "metadata": {},
   "outputs": [],
   "source": []
  },
  {
   "cell_type": "code",
   "execution_count": null,
   "metadata": {},
   "outputs": [],
   "source": []
  },
  {
   "cell_type": "code",
   "execution_count": null,
   "metadata": {},
   "outputs": [],
   "source": []
  },
  {
   "cell_type": "code",
   "execution_count": null,
   "metadata": {},
   "outputs": [],
   "source": []
  },
  {
   "cell_type": "code",
   "execution_count": null,
   "metadata": {},
   "outputs": [],
   "source": []
  },
  {
   "cell_type": "code",
   "execution_count": null,
   "metadata": {},
   "outputs": [],
   "source": []
  },
  {
   "cell_type": "code",
   "execution_count": null,
   "metadata": {},
   "outputs": [],
   "source": []
  },
  {
   "cell_type": "code",
   "execution_count": null,
   "metadata": {},
   "outputs": [],
   "source": []
  }
 ],
 "metadata": {
  "kernelspec": {
   "display_name": "Python 3",
   "language": "python",
   "name": "python3"
  },
  "language_info": {
   "codemirror_mode": {
    "name": "ipython",
    "version": 3
   },
   "file_extension": ".py",
   "mimetype": "text/x-python",
   "name": "python",
   "nbconvert_exporter": "python",
   "pygments_lexer": "ipython3",
   "version": "3.12.3"
  }
 },
 "nbformat": 4,
 "nbformat_minor": 2
}
